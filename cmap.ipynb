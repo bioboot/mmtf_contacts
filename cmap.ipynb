{
 "cells": [
  {
   "cell_type": "markdown",
   "metadata": {},
   "source": [
    "# Amino Acid Specific Contact Distance Cutoffs"
   ]
  },
  {
   "cell_type": "markdown",
   "metadata": {},
   "source": [
    "## Motivation: We want to characterize amino acid specific distance distributions over non-redundant PDB dataset. The reason to do such a calculation is to refine current contact defintion, which always uses a single distance cutoff (e.g., 4.5 or 6.0 angstrom). We want to develop amino acid specific cutoffs to account for distinct interaction ranges between e.g. ionizable residues and between non-polar residues."
   ]
  },
  {
   "cell_type": "code",
   "execution_count": 1,
   "metadata": {},
   "outputs": [],
   "source": [
    "from pyspark import SparkContext\n",
    "from pyspark.sql import SparkSession\n",
    "from mmtfPyspark.io import mmtfReader, mmtfWriter\n",
    "from mmtfPyspark.webfilters import Pisces\n",
    "from mmtfPyspark.mappers import StructureToPolymerChains\n",
    "from mmtfPyspark.utils import traverseStructureHierarchy, ColumnarStructure\n",
    "from mmtfPyspark import structureViewer\n",
    "from mmtfPyspark.filters import ContainsGroup, ContainsLProteinChain, PolymerComposition, Resolution \n",
    "import numpy as np\n",
    "from scipy.spatial.distance import pdist, squareform\n",
    "import matplotlib.pyplot as plt"
   ]
  },
  {
   "cell_type": "code",
   "execution_count": 118,
   "metadata": {},
   "outputs": [],
   "source": [
    "def rle(inarray):\n",
    "        \"\"\" run length encoding. Partial credit to R rle function. \n",
    "            Multi datatype arrays catered for including non Numpy\n",
    "            returns: tuple (runlengths, startpositions, values) \"\"\"\n",
    "        ia = np.asarray(inarray)                  # force numpy\n",
    "        n = len(ia)\n",
    "        if n == 0: \n",
    "            return (None, None, None)\n",
    "        else:\n",
    "            y = np.array(ia[1:] != ia[:-1])     # pairwise unequal (string safe)\n",
    "            i = np.append(np.where(y), n - 1)   # must include last element posi\n",
    "            z = np.diff(np.append(-1, i))       # run lengths\n",
    "            p = np.cumsum(np.append(0, z))[:-1] # positions\n",
    "            return(z, p, ia[i])"
   ]
  },
  {
   "cell_type": "code",
   "execution_count": 134,
   "metadata": {},
   "outputs": [
    {
     "data": {
      "text/plain": [
       "0.0"
      ]
     },
     "execution_count": 134,
     "metadata": {},
     "output_type": "execute_result"
    }
   ],
   "source": [
    "a = ['A','A','A','B','B','C']\n",
    "list(range(len(rle(a)[0])))\n",
    "dm = np.zeros((10, 10))\n",
    "np.min(dm[0:5,2:5])"
   ]
  },
  {
   "cell_type": "code",
   "execution_count": 135,
   "metadata": {},
   "outputs": [],
   "source": [
    "def distmap(structure):\n",
    "    arrays = ColumnarStructure(structure, firstModelOnly=True)\n",
    "    x = arrays.get_x_coords()\n",
    "    y = arrays.get_y_coords()\n",
    "    z = arrays.get_z_coords()\n",
    "#    entity_types = arrays.get_entity_types()\n",
    "#    cb_idx = entity_types == 'PRO'\n",
    "#    xc = x[cb_idx]\n",
    "#    yc = y[cb_idx]\n",
    "#    zc = z[cb_idx]\n",
    "#    coords = np.swapaxes(np.array([xc,yc,zc]), 0, 1)\n",
    "    coords = np.swapaxes(np.array([x,y,z]), 0, 1)\n",
    "    dist_matrix = squareform(pdist(coords), 'euclidean')\n",
    "    ch = arrays.get_chain_ids()\n",
    "    resno = arrays.get_group_numbers()\n",
    "    string = ch + resno\n",
    "#    unq = np.unique(string)\n",
    "    inds = rle(string)\n",
    "    nres = len(inds[0])\n",
    "    dm = np.zeros((nres, nres))\n",
    "    for i in range(nres):\n",
    "        for j in range(nres):\n",
    "            dm[i,j] = np.min(dist_matrix[inds[1][i]:(inds[1][i]+inds[0][i]), inds[1][j]:(inds[1][j]+inds[0][j])])\n",
    "            \n",
    "    return dm  \n",
    "#    return dist_matrix\n",
    "#   atom_names = arrays.get_atom_names()\n",
    "#    noh_idx = (atom_names = 'H*')"
   ]
  },
  {
   "cell_type": "markdown",
   "metadata": {},
   "source": [
    "**Configure Sparks**"
   ]
  },
  {
   "cell_type": "code",
   "execution_count": 4,
   "metadata": {},
   "outputs": [],
   "source": [
    "spark = SparkSession.builder.master(\"local[4]\").appName(\"Hackthon\").getOrCreate()\n",
    "sc = spark.sparkContext"
   ]
  },
  {
   "cell_type": "code",
   "execution_count": 5,
   "metadata": {},
   "outputs": [],
   "source": [
    "path = \"../resources/mmtf_full_sample\"\n",
    "\n",
    "pdb = mmtfReader.read_sequence_file(path, sc)"
   ]
  },
  {
   "cell_type": "code",
   "execution_count": 6,
   "metadata": {},
   "outputs": [],
   "source": [
    "nr_chains = pdb \\\n",
    "    .filter(Pisces(sequenceIdentity=20, resolution = 1.6)) \\\n",
    "    .flatMap(StructureToPolymerChains()) \\\n",
    "    .filter(Pisces(sequenceIdentity=20, resolution = 1.6)) \\\n",
    "    .filter(ContainsLProteinChain())"
   ]
  },
  {
   "cell_type": "code",
   "execution_count": 7,
   "metadata": {},
   "outputs": [],
   "source": [
    "#nr_chains.count()"
   ]
  },
  {
   "cell_type": "code",
   "execution_count": 8,
   "metadata": {},
   "outputs": [
    {
     "data": {
      "text/plain": [
       "['4WN5.A',\n",
       " '4WND.B',\n",
       " '4WP9.A',\n",
       " '4WPG.A',\n",
       " '4WPK.A',\n",
       " '4WRI.A',\n",
       " '4WSF.A',\n",
       " '1GWM.A',\n",
       " '1GXU.A',\n",
       " '1GY7.B']"
      ]
     },
     "execution_count": 8,
     "metadata": {},
     "output_type": "execute_result"
    }
   ],
   "source": [
    "pdbids = nr_chains.keys().collect()[:10]\n",
    "pdbids"
   ]
  },
  {
   "cell_type": "code",
   "execution_count": 9,
   "metadata": {},
   "outputs": [],
   "source": [
    "structures = nr_chains.filter(lambda x: x[0] in pdbids)"
   ]
  },
  {
   "cell_type": "code",
   "execution_count": 10,
   "metadata": {},
   "outputs": [
    {
     "data": {
      "text/plain": [
       "10"
      ]
     },
     "execution_count": 10,
     "metadata": {},
     "output_type": "execute_result"
    }
   ],
   "source": [
    "structures.count()"
   ]
  },
  {
   "cell_type": "code",
   "execution_count": 66,
   "metadata": {},
   "outputs": [],
   "source": [
    "#tt=structures.collect()[0]"
   ]
  },
  {
   "cell_type": "code",
   "execution_count": 75,
   "metadata": {},
   "outputs": [
    {
     "data": {
      "text/plain": [
       "1660"
      ]
     },
     "execution_count": 75,
     "metadata": {},
     "output_type": "execute_result"
    }
   ],
   "source": [
    "#tt[1].num_atoms"
   ]
  },
  {
   "cell_type": "code",
   "execution_count": 136,
   "metadata": {},
   "outputs": [],
   "source": [
    "tt = structures.map(lambda x: distmap(x[1]))"
   ]
  },
  {
   "cell_type": "code",
   "execution_count": null,
   "metadata": {},
   "outputs": [],
   "source": [
    "output = tt.collect()\n",
    "#help(ColumnarStructure)"
   ]
  },
  {
   "cell_type": "code",
   "execution_count": 115,
   "metadata": {},
   "outputs": [
    {
     "data": {
      "text/plain": [
       "[0, 0, 0, 0, 0, 0, 0, 0, 0, 0]"
      ]
     },
     "execution_count": 115,
     "metadata": {},
     "output_type": "execute_result"
    }
   ],
   "source": [
    "output"
   ]
  },
  {
   "cell_type": "code",
   "execution_count": null,
   "metadata": {},
   "outputs": [],
   "source": [
    "spark.stop()"
   ]
  }
 ],
 "metadata": {
  "kernelspec": {
   "display_name": "Python 3",
   "language": "python",
   "name": "python3"
  },
  "language_info": {
   "codemirror_mode": {
    "name": "ipython",
    "version": 3
   },
   "file_extension": ".py",
   "mimetype": "text/x-python",
   "name": "python",
   "nbconvert_exporter": "python",
   "pygments_lexer": "ipython3",
   "version": "3.6.4"
  }
 },
 "nbformat": 4,
 "nbformat_minor": 2
}
